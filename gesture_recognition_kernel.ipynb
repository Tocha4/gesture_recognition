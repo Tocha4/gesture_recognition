{
 "cells": [
  {
   "cell_type": "markdown",
   "metadata": {},
   "source": [
    "## Gesture recognition kernel\n",
    "The goal of this project was to develop a model capable of detecting digits from gestures in real time."
   ]
  },
  {
   "cell_type": "markdown",
   "metadata": {},
   "source": [
    "#### To get your own data run the *create_imgs.py* file"
   ]
  },
  {
   "cell_type": "code",
   "execution_count": null,
   "metadata": {},
   "outputs": [],
   "source": [
    "# %load create_imgs.py\n",
    "import numpy as np\n",
    "import cv2\n",
    "import datetime\n",
    "\n",
    "\n",
    "#%%\n",
    "def create_real_imgs():\n",
    "    cap = cv2.VideoCapture(0)\n",
    "    \n",
    "    while True:\n",
    "        ret, frame = cap.read()\n",
    "        gray = cv2.cvtColor(frame, cv2.COLOR_BGR2GRAY)\n",
    "        cv2.rectangle(frame,(40,80),(315,340),(0,255,0),3)\n",
    "        cv2.imshow('frame', frame)        \n",
    "        key = int(cv2.waitKey(1))\n",
    "        if key in [48,49,50,51,52,53]:\n",
    "            now = str(datetime.datetime.now().strftime(\"%Y%m%d%H%M%S\"))            \n",
    "            cv2.imwrite('gestures_test/{}_{}.png'.format(now, key-48), gray[40:315,80:340])\n",
    "        elif key & 0xFF == ord('q'):\n",
    "            print(key)\n",
    "            break\n",
    "                \n",
    "    cap.release()\n",
    "    cv2.destroyAllWindows()\n",
    "\n",
    "#%%\n",
    "def create_real_images_fast():\n",
    "    \n",
    "    cap = cv2.VideoCapture(0)\n",
    "    number = 0\n",
    "    while(True):\n",
    "        ret, frame = cap.read()\n",
    "        cv2.rectangle(frame,(40,80),(315,340),(0,255,0),3)\n",
    "        gray = cv2.cvtColor(frame, cv2.COLOR_BGR2GRAY)\n",
    "        cv2.imshow('frame',frame)        \n",
    "        key = int(cv2.waitKey(1))        \n",
    "        if key in [48,49,50,51,52,53]:\n",
    "            now = str(datetime.datetime.now().strftime(\"%Y%m%d%H%M%S\"))+str(number)\n",
    "            print(key, now)\n",
    "            cv2.imwrite('../gestures/train/{}_{}.png'.format(now, key-48), gray[40:315,80:340])\n",
    "            number += 1\n",
    "        if key & 0xFF == ord('q'):\n",
    "            break\n",
    "    \n",
    "    cap.release()\n",
    "    cv2.destroyAllWindows()\n",
    "    \n",
    "\n",
    "#%%\n",
    "            \n",
    "if __name__=='__main__':\n",
    "    \n",
    "    create_real_images_fast()\n",
    "    \n",
    "    \n"
   ]
  },
  {
   "cell_type": "code",
   "execution_count": null,
   "metadata": {},
   "outputs": [],
   "source": []
  }
 ],
 "metadata": {
  "kernelspec": {
   "display_name": "Python 3",
   "language": "python",
   "name": "python3"
  },
  "language_info": {
   "codemirror_mode": {
    "name": "ipython",
    "version": 3
   },
   "file_extension": ".py",
   "mimetype": "text/x-python",
   "name": "python",
   "nbconvert_exporter": "python",
   "pygments_lexer": "ipython3",
   "version": "3.6.4"
  }
 },
 "nbformat": 4,
 "nbformat_minor": 2
}
